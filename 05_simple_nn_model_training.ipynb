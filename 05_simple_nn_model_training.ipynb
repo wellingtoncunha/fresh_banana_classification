{
  "nbformat": 4,
  "nbformat_minor": 0,
  "metadata": {
    "colab": {
      "provenance": [],
      "gpuType": "T4"
    },
    "kernelspec": {
      "name": "python3",
      "display_name": "Python 3"
    },
    "language_info": {
      "name": "python"
    },
    "accelerator": "GPU"
  },
  "cells": [
    {
      "cell_type": "markdown",
      "source": [
        "# Experimenting/exploring Neural Networks with PyTorch\n",
        "\n",
        "In this notebook we experiment with Neural Networks using PyTorch. We start building a simple SoftMax NN to help in developing main algorithm that could be later used for any other architecture with small changes"
      ],
      "metadata": {
        "id": "q33ztBTaDm8k"
      }
    },
    {
      "cell_type": "markdown",
      "source": [
        "# Mounting google drive\n",
        "\n",
        "In order to make it easy to read data from Google Drive, it can be mounted as a \"local\" unity. This encapsulates the connection to Google API and reduce the amount of coding that would be needed when interacting with Google API"
      ],
      "metadata": {
        "id": "FoupKCITSTt-"
      }
    },
    {
      "cell_type": "code",
      "execution_count": 1,
      "metadata": {
        "colab": {
          "base_uri": "https://localhost:8080/"
        },
        "id": "YgaAf_NtSO8M",
        "outputId": "434dbf6e-9942-40b4-f3be-862ea80d6b1f"
      },
      "outputs": [
        {
          "output_type": "stream",
          "name": "stdout",
          "text": [
            "Requirement already satisfied: pandarallel in /usr/local/lib/python3.10/dist-packages (1.6.5)\n",
            "Requirement already satisfied: dill>=0.3.1 in /usr/local/lib/python3.10/dist-packages (from pandarallel) (0.3.7)\n",
            "Requirement already satisfied: pandas>=1 in /usr/local/lib/python3.10/dist-packages (from pandarallel) (1.5.3)\n",
            "Requirement already satisfied: psutil in /usr/local/lib/python3.10/dist-packages (from pandarallel) (5.9.5)\n",
            "Requirement already satisfied: python-dateutil>=2.8.1 in /usr/local/lib/python3.10/dist-packages (from pandas>=1->pandarallel) (2.8.2)\n",
            "Requirement already satisfied: pytz>=2020.1 in /usr/local/lib/python3.10/dist-packages (from pandas>=1->pandarallel) (2023.3.post1)\n",
            "Requirement already satisfied: numpy>=1.21.0 in /usr/local/lib/python3.10/dist-packages (from pandas>=1->pandarallel) (1.23.5)\n",
            "Requirement already satisfied: six>=1.5 in /usr/local/lib/python3.10/dist-packages (from python-dateutil>=2.8.1->pandas>=1->pandarallel) (1.16.0)\n",
            "Requirement already satisfied: opencv-python in /usr/local/lib/python3.10/dist-packages (4.8.0.76)\n",
            "Requirement already satisfied: numpy>=1.21.2 in /usr/local/lib/python3.10/dist-packages (from opencv-python) (1.23.5)\n",
            "Mounted at /content/gdrive\n",
            "running in colab? True \n",
            "data files: /content/gdrive/MyDrive/08 CS670 Artificial Intelligence/Term Project/data\n"
          ]
        }
      ],
      "source": [
        "# First check if running on Google Colab\n",
        "try:\n",
        "    from google.colab import drive\n",
        "\n",
        "    # Install required packages\n",
        "    ! pip install pandarallel\n",
        "    ! pip install opencv-python\n",
        "\n",
        "    # Mount Drive\n",
        "    drive.mount(\"/content/gdrive\", force_remount=True)\n",
        "\n",
        "    IN_COLAB = True\n",
        "    file_placement = \"/content/gdrive/MyDrive/08 CS670 Artificial Intelligence/Term Project/data\"\n",
        "except:\n",
        "    IN_COLAB = False\n",
        "\n",
        "    # Install required packages\n",
        "    ! pip install opencv-python\n",
        "\n",
        "    import os\n",
        "    file_placement = os.path.join(os.getcwd(), \"..\", \"data\")\n",
        "print(\"running in colab?\", IN_COLAB, \"\\ndata files:\", file_placement)"
      ]
    },
    {
      "cell_type": "code",
      "source": [
        "import os\n",
        "import matplotlib.pyplot as plt\n",
        "\n",
        "import torch\n",
        "from torchvision import datasets, transforms\n",
        "from torch import nn\n",
        "import pandas as pd\n",
        "from sklearn.metrics import confusion_matrix\n",
        "import seaborn as sns\n",
        "\n",
        "if IN_COLAB:\n",
        "    base_folder = os.path.join(file_placement, \"..\", \"..\", \"Publishing\")\n",
        "else:\n",
        "    base_folder = os.path.join(file_placement, \"..\")\n",
        "data_folder = os.path.join(base_folder, \"transformed_images\")\n",
        "transform = transforms.Compose([\n",
        "    transforms.Resize(255),\n",
        "    transforms.ToTensor()]\n",
        ")\n",
        "\n",
        "dataset = datasets.ImageFolder(data_folder, transform=transform)"
      ],
      "metadata": {
        "id": "gnNvraebSXZG"
      },
      "execution_count": 2,
      "outputs": []
    },
    {
      "cell_type": "markdown",
      "source": [
        "We load the dataset into a tensor and then augment it"
      ],
      "metadata": {
        "id": "YNt9cvtK2LXE"
      }
    },
    {
      "cell_type": "code",
      "source": [
        "transform =  transforms.Compose([\n",
        "    transforms.Resize(255),\n",
        "    transforms.RandomRotation(90),\n",
        "    transforms.RandomHorizontalFlip(),\n",
        "    transforms.RandomHorizontalFlip(),\n",
        "    transforms.ToTensor()])\n",
        "dataset_augmented = datasets.ImageFolder(data_folder, transform=transform)"
      ],
      "metadata": {
        "id": "g2kc8IF1VK31"
      },
      "execution_count": 3,
      "outputs": []
    },
    {
      "cell_type": "code",
      "source": [
        "# final_dataset = torch.utils.data.ConcatDataset([dataset, dataset_augmented])\n",
        "final_dataset = torch.utils.data.ConcatDataset([dataset, dataset_augmented])\n",
        "generator = torch.Generator().manual_seed(42)\n",
        "train_dataset, test_dataset = torch.utils.data.random_split(final_dataset, [0.75, 0.25])"
      ],
      "metadata": {
        "id": "hekCX9Gr0rgz"
      },
      "execution_count": 4,
      "outputs": []
    },
    {
      "cell_type": "code",
      "source": [
        "print(\n",
        "    \"Train dataset size:\", len(train_dataset),\n",
        "    \"\\nTest dataset size:\", len(test_dataset),\n",
        "    \"\\nTotal of images:\", (len(train_dataset) + len(test_dataset))\n",
        ")"
      ],
      "metadata": {
        "colab": {
          "base_uri": "https://localhost:8080/"
        },
        "id": "y6gACLCC08xu",
        "outputId": "9869953d-8633-4fab-b3ed-4fb892f7f9b8"
      },
      "execution_count": 5,
      "outputs": [
        {
          "output_type": "stream",
          "name": "stdout",
          "text": [
            "Train dataset size: 9720 \n",
            "Test dataset size: 3240 \n",
            "Total of images: 12960\n"
          ]
        }
      ]
    },
    {
      "cell_type": "markdown",
      "source": [
        "Batches of size 64, 128 and 256 were attempted, with 128 observations per batch being the one with the best trade-off between use of resources and time to train"
      ],
      "metadata": {
        "id": "iriNsumZax1z"
      }
    },
    {
      "cell_type": "code",
      "source": [
        "batch_size = 128\n",
        "train_dataloader = torch.utils.data.DataLoader(train_dataset, batch_size=batch_size, shuffle=True, drop_last=True)\n",
        "# image, label = next(iter(train_dataloader))"
      ],
      "metadata": {
        "id": "SJ59NE3I00AG"
      },
      "execution_count": 6,
      "outputs": []
    },
    {
      "cell_type": "code",
      "source": [
        "test_dataloader = torch.utils.data.DataLoader(test_dataset, batch_size=batch_size, shuffle=True, drop_last=True)"
      ],
      "metadata": {
        "id": "PCennbxj2Ut_"
      },
      "execution_count": 7,
      "outputs": []
    },
    {
      "cell_type": "markdown",
      "source": [
        "# Build Neural Network\n",
        "\n",
        "To experiment with NN we build a simple SoftMax regression with only two layers:\n",
        "\n",
        "* A layer to flat the 3D Tensor (width X height X channels)\n",
        "* SoftMax activation layer, with two output channels (one for each class of label)"
      ],
      "metadata": {
        "id": "tabWxJbU2Oy6"
      }
    },
    {
      "cell_type": "code",
      "source": [
        "class SoftMaxRegression(nn.Module):\n",
        "    def __init__(self):\n",
        "        super().__init__()\n",
        "        # define layers\n",
        "        self.flatten = nn.Flatten()\n",
        "        self.linear = nn.Linear(195075, 2)\n",
        "\n",
        "    def forward(self, x):\n",
        "        # Now it only takes a call to the layer to make predictions\n",
        "        y = self.flatten(x)\n",
        "        y = self.linear(y)\n",
        "        return y"
      ],
      "metadata": {
        "id": "uj8NDcgi044f"
      },
      "execution_count": 8,
      "outputs": []
    },
    {
      "cell_type": "markdown",
      "source": [
        "Here we check if GPU is available, instantiate our model, pick our loss functions and define our optimizer. We are using one example from Deep Learning class without worrying about \"the best choice\", as this is just an experiment.\n",
        "\n",
        "**Note**: in Google Colab, do not forget to change the runtime environment to one with GPU"
      ],
      "metadata": {
        "id": "r4xDli8I2YiQ"
      }
    },
    {
      "cell_type": "code",
      "source": [
        "device = 'cuda' if torch.cuda.is_available() else 'cpu'\n",
        "print(device)\n",
        "\n",
        "# let's instantiate a model\n",
        "model = SoftMaxRegression().to(device)\n",
        "\n",
        "# define loss function\n",
        "loss_fn = nn.CrossEntropyLoss()\n",
        "# loss_fn = nn.NLLLoss()\n",
        "\n",
        "# define optimizer\n",
        "#optimizer = torch.optim.SGD(model.parameters(), lr=0.1)\n",
        "optimizer = torch.optim.Adam(model.parameters())"
      ],
      "metadata": {
        "colab": {
          "base_uri": "https://localhost:8080/"
        },
        "id": "rwcsntBd2XSn",
        "outputId": "e7732988-9d2e-42ef-f3ff-a570370796cf"
      },
      "execution_count": 9,
      "outputs": [
        {
          "output_type": "stream",
          "name": "stdout",
          "text": [
            "cuda\n"
          ]
        }
      ]
    },
    {
      "cell_type": "markdown",
      "source": [
        "Here we initiallize the weights for our model"
      ],
      "metadata": {
        "id": "ZextYq8y3Xkq"
      }
    },
    {
      "cell_type": "code",
      "source": [
        "def init_weights(m):\n",
        "    if type(m) == nn.Linear:\n",
        "        nn.init.normal_(m.weight, std=0.01)\n",
        "\n",
        "model.apply(init_weights);"
      ],
      "metadata": {
        "id": "50kPqjP43Vj2"
      },
      "execution_count": 10,
      "outputs": []
    },
    {
      "cell_type": "markdown",
      "source": [
        "And here we check how our model is working for one batch of our training set"
      ],
      "metadata": {
        "id": "fvGP-3n-3cvw"
      }
    },
    {
      "cell_type": "code",
      "source": [
        "for x_batch, y_batch in train_dataloader:\n",
        "\n",
        "  print(x_batch.shape)\n",
        "  print(y_batch.shape)\n",
        "  print(\"Features:\\n\\t\", x_batch[:1], \"\\nLabels:\\n\\t\", y_batch[:1])\n",
        "\n",
        "  print(nn.Flatten(x_batch))\n",
        "\n",
        "  x_batch = x_batch.to(device)\n",
        "  y_batch = y_batch.to(device)\n",
        "\n",
        "  y_hat = model(x_batch)\n",
        "  print(y_hat[1])\n",
        "\n",
        "  ll = loss_fn(y_hat, y_batch )\n",
        "#   print(ll)\n",
        "\n",
        "  break   # break after first pair, we just want to observe"
      ],
      "metadata": {
        "colab": {
          "base_uri": "https://localhost:8080/"
        },
        "id": "q1pt4aXI3a4Q",
        "outputId": "ebabef06-4ebf-430b-e87c-28e88d5fdb73"
      },
      "execution_count": 11,
      "outputs": [
        {
          "output_type": "stream",
          "name": "stdout",
          "text": [
            "torch.Size([128, 3, 255, 255])\n",
            "torch.Size([128])\n",
            "Features:\n",
            "\t tensor([[[[0., 0., 0.,  ..., 0., 0., 0.],\n",
            "          [0., 0., 0.,  ..., 0., 0., 0.],\n",
            "          [0., 0., 0.,  ..., 0., 0., 0.],\n",
            "          ...,\n",
            "          [0., 0., 0.,  ..., 0., 0., 0.],\n",
            "          [0., 0., 0.,  ..., 0., 0., 0.],\n",
            "          [0., 0., 0.,  ..., 0., 0., 0.]],\n",
            "\n",
            "         [[0., 0., 0.,  ..., 0., 0., 0.],\n",
            "          [0., 0., 0.,  ..., 0., 0., 0.],\n",
            "          [0., 0., 0.,  ..., 0., 0., 0.],\n",
            "          ...,\n",
            "          [0., 0., 0.,  ..., 0., 0., 0.],\n",
            "          [0., 0., 0.,  ..., 0., 0., 0.],\n",
            "          [0., 0., 0.,  ..., 0., 0., 0.]],\n",
            "\n",
            "         [[0., 0., 0.,  ..., 0., 0., 0.],\n",
            "          [0., 0., 0.,  ..., 0., 0., 0.],\n",
            "          [0., 0., 0.,  ..., 0., 0., 0.],\n",
            "          ...,\n",
            "          [0., 0., 0.,  ..., 0., 0., 0.],\n",
            "          [0., 0., 0.,  ..., 0., 0., 0.],\n",
            "          [0., 0., 0.,  ..., 0., 0., 0.]]]]) \n",
            "Labels:\n",
            "\t tensor([1])\n",
            "Flatten(\n",
            "  start_dim=tensor([[[[0., 0., 0.,  ..., 0., 0., 0.],\n",
            "            [0., 0., 0.,  ..., 0., 0., 0.],\n",
            "            [0., 0., 0.,  ..., 0., 0., 0.],\n",
            "            ...,\n",
            "            [0., 0., 0.,  ..., 0., 0., 0.],\n",
            "            [0., 0., 0.,  ..., 0., 0., 0.],\n",
            "            [0., 0., 0.,  ..., 0., 0., 0.]],\n",
            "  \n",
            "           [[0., 0., 0.,  ..., 0., 0., 0.],\n",
            "            [0., 0., 0.,  ..., 0., 0., 0.],\n",
            "            [0., 0., 0.,  ..., 0., 0., 0.],\n",
            "            ...,\n",
            "            [0., 0., 0.,  ..., 0., 0., 0.],\n",
            "            [0., 0., 0.,  ..., 0., 0., 0.],\n",
            "            [0., 0., 0.,  ..., 0., 0., 0.]],\n",
            "  \n",
            "           [[0., 0., 0.,  ..., 0., 0., 0.],\n",
            "            [0., 0., 0.,  ..., 0., 0., 0.],\n",
            "            [0., 0., 0.,  ..., 0., 0., 0.],\n",
            "            ...,\n",
            "            [0., 0., 0.,  ..., 0., 0., 0.],\n",
            "            [0., 0., 0.,  ..., 0., 0., 0.],\n",
            "            [0., 0., 0.,  ..., 0., 0., 0.]]],\n",
            "  \n",
            "  \n",
            "          [[[0., 0., 0.,  ..., 0., 0., 0.],\n",
            "            [0., 0., 0.,  ..., 0., 0., 0.],\n",
            "            [0., 0., 0.,  ..., 0., 0., 0.],\n",
            "            ...,\n",
            "            [0., 0., 0.,  ..., 0., 0., 0.],\n",
            "            [0., 0., 0.,  ..., 0., 0., 0.],\n",
            "            [0., 0., 0.,  ..., 0., 0., 0.]],\n",
            "  \n",
            "           [[0., 0., 0.,  ..., 0., 0., 0.],\n",
            "            [0., 0., 0.,  ..., 0., 0., 0.],\n",
            "            [0., 0., 0.,  ..., 0., 0., 0.],\n",
            "            ...,\n",
            "            [0., 0., 0.,  ..., 0., 0., 0.],\n",
            "            [0., 0., 0.,  ..., 0., 0., 0.],\n",
            "            [0., 0., 0.,  ..., 0., 0., 0.]],\n",
            "  \n",
            "           [[0., 0., 0.,  ..., 0., 0., 0.],\n",
            "            [0., 0., 0.,  ..., 0., 0., 0.],\n",
            "            [0., 0., 0.,  ..., 0., 0., 0.],\n",
            "            ...,\n",
            "            [0., 0., 0.,  ..., 0., 0., 0.],\n",
            "            [0., 0., 0.,  ..., 0., 0., 0.],\n",
            "            [0., 0., 0.,  ..., 0., 0., 0.]]],\n",
            "  \n",
            "  \n",
            "          [[[0., 0., 0.,  ..., 0., 0., 0.],\n",
            "            [0., 0., 0.,  ..., 0., 0., 0.],\n",
            "            [0., 0., 0.,  ..., 0., 0., 0.],\n",
            "            ...,\n",
            "            [0., 0., 0.,  ..., 0., 0., 0.],\n",
            "            [0., 0., 0.,  ..., 0., 0., 0.],\n",
            "            [0., 0., 0.,  ..., 0., 0., 0.]],\n",
            "  \n",
            "           [[0., 0., 0.,  ..., 0., 0., 0.],\n",
            "            [0., 0., 0.,  ..., 0., 0., 0.],\n",
            "            [0., 0., 0.,  ..., 0., 0., 0.],\n",
            "            ...,\n",
            "            [0., 0., 0.,  ..., 0., 0., 0.],\n",
            "            [0., 0., 0.,  ..., 0., 0., 0.],\n",
            "            [0., 0., 0.,  ..., 0., 0., 0.]],\n",
            "  \n",
            "           [[0., 0., 0.,  ..., 0., 0., 0.],\n",
            "            [0., 0., 0.,  ..., 0., 0., 0.],\n",
            "            [0., 0., 0.,  ..., 0., 0., 0.],\n",
            "            ...,\n",
            "            [0., 0., 0.,  ..., 0., 0., 0.],\n",
            "            [0., 0., 0.,  ..., 0., 0., 0.],\n",
            "            [0., 0., 0.,  ..., 0., 0., 0.]]],\n",
            "  \n",
            "  \n",
            "          ...,\n",
            "  \n",
            "  \n",
            "          [[[0., 0., 0.,  ..., 0., 0., 0.],\n",
            "            [0., 0., 0.,  ..., 0., 0., 0.],\n",
            "            [0., 0., 0.,  ..., 0., 0., 0.],\n",
            "            ...,\n",
            "            [0., 0., 0.,  ..., 0., 0., 0.],\n",
            "            [0., 0., 0.,  ..., 0., 0., 0.],\n",
            "            [0., 0., 0.,  ..., 0., 0., 0.]],\n",
            "  \n",
            "           [[0., 0., 0.,  ..., 0., 0., 0.],\n",
            "            [0., 0., 0.,  ..., 0., 0., 0.],\n",
            "            [0., 0., 0.,  ..., 0., 0., 0.],\n",
            "            ...,\n",
            "            [0., 0., 0.,  ..., 0., 0., 0.],\n",
            "            [0., 0., 0.,  ..., 0., 0., 0.],\n",
            "            [0., 0., 0.,  ..., 0., 0., 0.]],\n",
            "  \n",
            "           [[0., 0., 0.,  ..., 0., 0., 0.],\n",
            "            [0., 0., 0.,  ..., 0., 0., 0.],\n",
            "            [0., 0., 0.,  ..., 0., 0., 0.],\n",
            "            ...,\n",
            "            [0., 0., 0.,  ..., 0., 0., 0.],\n",
            "            [0., 0., 0.,  ..., 0., 0., 0.],\n",
            "            [0., 0., 0.,  ..., 0., 0., 0.]]],\n",
            "  \n",
            "  \n",
            "          [[[0., 0., 0.,  ..., 0., 0., 0.],\n",
            "            [0., 0., 0.,  ..., 0., 0., 0.],\n",
            "            [0., 0., 0.,  ..., 0., 0., 0.],\n",
            "            ...,\n",
            "            [0., 0., 0.,  ..., 0., 0., 0.],\n",
            "            [0., 0., 0.,  ..., 0., 0., 0.],\n",
            "            [0., 0., 0.,  ..., 0., 0., 0.]],\n",
            "  \n",
            "           [[0., 0., 0.,  ..., 0., 0., 0.],\n",
            "            [0., 0., 0.,  ..., 0., 0., 0.],\n",
            "            [0., 0., 0.,  ..., 0., 0., 0.],\n",
            "            ...,\n",
            "            [0., 0., 0.,  ..., 0., 0., 0.],\n",
            "            [0., 0., 0.,  ..., 0., 0., 0.],\n",
            "            [0., 0., 0.,  ..., 0., 0., 0.]],\n",
            "  \n",
            "           [[0., 0., 0.,  ..., 0., 0., 0.],\n",
            "            [0., 0., 0.,  ..., 0., 0., 0.],\n",
            "            [0., 0., 0.,  ..., 0., 0., 0.],\n",
            "            ...,\n",
            "            [0., 0., 0.,  ..., 0., 0., 0.],\n",
            "            [0., 0., 0.,  ..., 0., 0., 0.],\n",
            "            [0., 0., 0.,  ..., 0., 0., 0.]]],\n",
            "  \n",
            "  \n",
            "          [[[0., 0., 0.,  ..., 0., 0., 0.],\n",
            "            [0., 0., 0.,  ..., 0., 0., 0.],\n",
            "            [0., 0., 0.,  ..., 0., 0., 0.],\n",
            "            ...,\n",
            "            [0., 0., 0.,  ..., 0., 0., 0.],\n",
            "            [0., 0., 0.,  ..., 0., 0., 0.],\n",
            "            [0., 0., 0.,  ..., 0., 0., 0.]],\n",
            "  \n",
            "           [[0., 0., 0.,  ..., 0., 0., 0.],\n",
            "            [0., 0., 0.,  ..., 0., 0., 0.],\n",
            "            [0., 0., 0.,  ..., 0., 0., 0.],\n",
            "            ...,\n",
            "            [0., 0., 0.,  ..., 0., 0., 0.],\n",
            "            [0., 0., 0.,  ..., 0., 0., 0.],\n",
            "            [0., 0., 0.,  ..., 0., 0., 0.]],\n",
            "  \n",
            "           [[0., 0., 0.,  ..., 0., 0., 0.],\n",
            "            [0., 0., 0.,  ..., 0., 0., 0.],\n",
            "            [0., 0., 0.,  ..., 0., 0., 0.],\n",
            "            ...,\n",
            "            [0., 0., 0.,  ..., 0., 0., 0.],\n",
            "            [0., 0., 0.,  ..., 0., 0., 0.],\n",
            "            [0., 0., 0.,  ..., 0., 0., 0.]]]]), end_dim=-1\n",
            ")\n",
            "tensor([-1.0981,  3.4339], device='cuda:0', grad_fn=<SelectBackward0>)\n"
          ]
        }
      ]
    },
    {
      "cell_type": "markdown",
      "source": [
        "And here we built our train step (epoch) and test it"
      ],
      "metadata": {
        "id": "qO6Uf1b43hOI"
      }
    },
    {
      "cell_type": "code",
      "source": [
        "def make_train_step(model, loss_fn, optimizer):\n",
        "    # Builds function that performs a step in the train loop\n",
        "    def train_step(x, y):\n",
        "        # Sets model to TRAIN mode\n",
        "        model.train()\n",
        "        # Makes predictions\n",
        "        yhat = model(x)\n",
        "        # Computes loss\n",
        "        loss = loss_fn(yhat, y)\n",
        "        # Computes gradients\n",
        "        loss.backward()\n",
        "        # Updates parameters and zeroes gradients\n",
        "        optimizer.step()\n",
        "        optimizer.zero_grad()\n",
        "        # Returns the loss\n",
        "        return loss.item()\n",
        "\n",
        "    # Returns the function that will be called inside the train loop\n",
        "    return train_step\n",
        "\n",
        "# Creates the train_step function for our model, loss function and optimizer\n",
        "train_step = make_train_step(model, loss_fn, optimizer)\n",
        "losses = []\n",
        "n_epochs = 10"
      ],
      "metadata": {
        "id": "h0HRqwso3fED"
      },
      "execution_count": 12,
      "outputs": []
    },
    {
      "cell_type": "markdown",
      "source": [
        "Finally we train our model for 10 epochs (iterations)"
      ],
      "metadata": {
        "id": "BC59_yw63lbv"
      }
    },
    {
      "cell_type": "code",
      "source": [
        "import numpy as np\n",
        "import time\n",
        "\n",
        "model.apply(init_weights)   #always good to initialize in the beginning\n",
        "n_epochs = 10\n",
        "losses = []\n",
        "test_losses = []\n",
        "train_step = make_train_step(model, loss_fn, optimizer)\n",
        "log_training = []\n",
        "device = 'cuda' if torch.cuda.is_available() else 'cpu'\n",
        "print(\"Running on:\", device)\n",
        "\n",
        "for epoch in range(n_epochs):\n",
        "    start = torch.cuda.Event(enable_timing=True)\n",
        "    end = torch.cuda.Event(enable_timing=True)\n",
        "    log_row = {\n",
        "        \"epoch\": epoch + 1,\n",
        "        \"start time\": time.time(),\n",
        "        \"start GPU time\": start}\n",
        "    print(epoch + 1, \"/\", n_epochs)\n",
        "    for x_batch, y_batch in train_dataloader:\n",
        "        x_batch = x_batch.to(device)\n",
        "        y_batch = y_batch.to(device)\n",
        "\n",
        "        loss = train_step(x_batch, y_batch)\n",
        "        losses.append(loss)\n",
        "\n",
        "    print(\"Train loss:\", np.mean(losses))\n",
        "    log_row[\"train loss\"] = np.mean(losses)\n",
        "    # torch no_grad makes sure that the nested-below computations happen without gradients,\n",
        "    # since these are not needed for evaluation\n",
        "    with torch.no_grad():\n",
        "        for x_test, y_test in test_dataloader:\n",
        "            x_test = x_test.to(device)\n",
        "            y_test = y_test.to(device)\n",
        "\n",
        "            model.eval()\n",
        "\n",
        "            yhat = model(x_test)\n",
        "            test_loss = loss_fn(yhat, y_test)\n",
        "            test_losses.append(test_loss.item())\n",
        "\n",
        "        print(\"Test loss:\", np.mean(test_losses))\n",
        "        log_row[\"test loss\"] = np.mean(test_losses)\n",
        "    log_row[\"end time\"] = time.time()\n",
        "    log_row[\"end GPU time\"] = end.record()\n",
        "    torch.cuda.synchronize()\n",
        "    log_training.append(log_row)\n",
        "#print(model.state_dict())"
      ],
      "metadata": {
        "colab": {
          "base_uri": "https://localhost:8080/"
        },
        "id": "utnVkXm93jcn",
        "outputId": "39855773-42c5-4bd7-ecd4-48bc9441cf55"
      },
      "execution_count": 13,
      "outputs": [
        {
          "output_type": "stream",
          "name": "stdout",
          "text": [
            "Running on: cuda\n",
            "1 / 10\n",
            "Train loss: 6.944773907661438\n",
            "Test loss: 0.9362641394138336\n",
            "2 / 10\n",
            "Train loss: 4.376407756209374\n",
            "Test loss: 1.2365677553415297\n",
            "3 / 10\n",
            "Train loss: 3.1700841874546475\n",
            "Test loss: 1.1556891624132792\n",
            "4 / 10\n",
            "Train loss: 2.6531642097234727\n",
            "Test loss: 1.160591534972191\n",
            "5 / 10\n",
            "Train loss: 2.2289285336732862\n",
            "Test loss: 1.009375798344612\n",
            "6 / 10\n",
            "Train loss: 2.05063098102808\n",
            "Test loss: 0.9706639890869458\n",
            "7 / 10\n",
            "Train loss: 1.8574275015578383\n",
            "Test loss: 0.8930364787578583\n",
            "8 / 10\n",
            "Train loss: 1.7344163286996384\n",
            "Test loss: 1.2801281167566776\n",
            "9 / 10\n",
            "Train loss: 1.661100941537707\n",
            "Test loss: 1.190560290912787\n",
            "10 / 10\n",
            "Train loss: 1.5624438572873671\n",
            "Test loss: 1.2107244869172573\n"
          ]
        }
      ]
    },
    {
      "cell_type": "code",
      "source": [
        "training_statistics = pd.DataFrame(log_training)"
      ],
      "metadata": {
        "id": "WqsrWaqfZN9A"
      },
      "execution_count": 14,
      "outputs": []
    },
    {
      "cell_type": "code",
      "source": [
        "plt.rcParams[\"figure.figsize\"] = (6, 4)\n",
        "plt.plot(training_statistics[\"train loss\"], label=\"train loss\")\n",
        "plt.plot(training_statistics[\"test loss\"], label=\"test loss\")\n",
        "plt.legend()\n",
        "plt.xlabel(\"epoch\")\n",
        "plt.xticks(training_statistics.index, training_statistics[\"epoch\"])\n",
        "plt.show"
      ],
      "metadata": {
        "colab": {
          "base_uri": "https://localhost:8080/",
          "height": 405
        },
        "id": "ov0m2ZnT3YNn",
        "outputId": "47277a1d-7f77-4a44-dfd6-d73f968e7cb3"
      },
      "execution_count": 26,
      "outputs": [
        {
          "output_type": "execute_result",
          "data": {
            "text/plain": [
              "<function matplotlib.pyplot.show(close=None, block=None)>"
            ]
          },
          "metadata": {},
          "execution_count": 26
        },
        {
          "output_type": "display_data",
          "data": {
            "text/plain": [
              "<Figure size 600x400 with 1 Axes>"
            ],
            "image/png": "[encoded data removed]"
          },
          "metadata": {}
        }
      ]
    },
    {
      "cell_type": "code",
      "source": [
        "training_statistics[\"duration\"] = training_statistics[\"end time\"] - training_statistics[\"start time\"]\n",
        "plt.rcParams[\"figure.figsize\"] = (6, 4)\n",
        "plt.bar(training_statistics[\"epoch\"], training_statistics[\"duration\"])\n",
        "plt.ylabel(\"seconds\")\n",
        "total_duration = training_statistics[\"duration\"].sum()\n",
        "plt.xlabel(f\"epoch\\n(total duration of {str(round(total_duration, 2))} seconds for 10 epochs)\")\n",
        "plt.xticks(training_statistics[\"epoch\"])\n",
        "plt.show\n",
        "# training_statistics"
      ],
      "metadata": {
        "id": "8R4CoNJuw7S4",
        "colab": {
          "base_uri": "https://localhost:8080/",
          "height": 421
        },
        "outputId": "9a1f8521-3a4a-4d98-c5df-38524e99c2a6"
      },
      "execution_count": 33,
      "outputs": [
        {
          "output_type": "execute_result",
          "data": {
            "text/plain": [
              "<function matplotlib.pyplot.show(close=None, block=None)>"
            ]
          },
          "metadata": {},
          "execution_count": 33
        },
        {
          "output_type": "display_data",
          "data": {
            "text/plain": [
              "<Figure size 600x400 with 1 Axes>"
            ],
            "image/png": "[encoded data removed]"
          },
          "metadata": {}
        }
      ]
    },
    {
      "cell_type": "markdown",
      "source": [
        "Let's check the accuracy of trained model"
      ],
      "metadata": {
        "id": "wyjtl0oR7tr5"
      }
    },
    {
      "cell_type": "code",
      "source": [
        "def check_performance(model, test_dataloader, type_of_set):\n",
        "  all_true = []\n",
        "  all_preds = []\n",
        "  model.eval()\n",
        "  for X, y in test_dataloader:\n",
        "    X = X.to(device)\n",
        "    y = y.to(device)\n",
        "\n",
        "    trues = y\n",
        "    preds = model(X).argmax(axis=1)\n",
        "    all_true.extend(list(trues.cpu().numpy()))\n",
        "    all_preds.extend(list(preds.cpu().numpy()))\n",
        "\n",
        "  performance = pd.DataFrame({\"true\": all_true, \"predicted\": all_preds})\n",
        "  cm = confusion_matrix(performance[\"true\"], performance[\"predicted\"])\n",
        "  sns.heatmap(cm, annot=True, fmt=\".0f\", cmap=\"binary\",\n",
        "              xticklabels = [\"fresh\", \"not fresh\"], yticklabels = [\"fresh\", \"not fresh\"])\n",
        "  #Metrics for Binary Confusion Matrices\n",
        "  accuracy  = np.trace(cm) / float(np.sum(cm))\n",
        "  precision = cm[1,1] / sum(cm[:,1])\n",
        "  recall    = cm[1,1] / sum(cm[1,:])\n",
        "  f1_score  = 2*precision*recall / (precision + recall)\n",
        "  stats_text = \"\\n\\nAccuracy = {:0.3f}\\nPrecision = {:0.3f}\\nRecall = {:0.3f}\\nF1 Score = {:0.3f}\".format(\n",
        "      accuracy, precision, recall, f1_score)\n",
        "\n",
        "  plt.title(f\"Banana Freshness - {type_of_set}\")\n",
        "  plt.xlabel(stats_text)\n",
        "  # return performance\n",
        "\n",
        "check_performance(model, test_dataloader, \"Test set - Simple SoftMax\")\n",
        "# test_dataloader"
      ],
      "metadata": {
        "colab": {
          "base_uri": "https://localhost:8080/",
          "height": 491
        },
        "id": "FKl5o6K7XwbC",
        "outputId": "be59bce9-1a27-4a02-dedb-a093e606e25c"
      },
      "execution_count": 27,
      "outputs": [
        {
          "output_type": "display_data",
          "data": {
            "text/plain": [
              "<Figure size 600x400 with 2 Axes>"
            ],
            "image/png": "[encoded data removed]"
          },
          "metadata": {}
        }
      ]
    },
    {
      "cell_type": "markdown",
      "source": [
        "Even without worrying about \"the right choice\" or performance, our test model was able to achieve an accuracy of 0.8416 (84.16%). It is important to notice that our test loss was always below the train loss, which indicates a good generalization of the model."
      ],
      "metadata": {
        "id": "8k7P6nhT7wVr"
      }
    },
    {
      "cell_type": "code",
      "source": [],
      "metadata": {
        "id": "of4dlKHe71ze"
      },
      "execution_count": null,
      "outputs": []
    }
  ]
}